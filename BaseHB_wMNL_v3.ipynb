{
 "cells": [
  {
   "cell_type": "markdown",
   "metadata": {},
   "source": [
    "***\n",
    "#### Just Run to set up libraries and verify Stan exists"
   ]
  },
  {
   "cell_type": "code",
   "execution_count": 28,
   "metadata": {},
   "outputs": [
    {
     "name": "stderr",
     "output_type": "stream",
     "text": [
      "CmdStan path set to: /opt/conda/bin/cmdstan\n",
      "\n"
     ]
    },
    {
     "data": {
      "text/html": [
       "'2.27.0'"
      ],
      "text/latex": [
       "'2.27.0'"
      ],
      "text/markdown": [
       "'2.27.0'"
      ],
      "text/plain": [
       "[1] \"2.27.0\""
      ]
     },
     "metadata": {},
     "output_type": "display_data"
    }
   ],
   "source": [
    "library(cmdstanr)\n",
    "library(posterior)\n",
    "set_cmdstan_path('/opt/conda/bin/cmdstan')\n",
    "cmdstan_version()\n",
    "rpath <- \"/home/sagemaker-user/SharedGit/RCode\" # Location of R files\n",
    "source(file.path(rpath,\"EstimationEcosystems.R\")) # Source helper functions"
   ]
  },
  {
   "cell_type": "markdown",
   "metadata": {},
   "source": [
    "***\n",
    "####  1) Create subfolder in Projects directory and import rds data file there \n",
    "Then specify in first three lines:  \n",
    "><code style=\"color:yellow\">my_folder</code> is name of folder you created under Projects   \n",
    "><code style=\"color:yellow\">my_csv_file</code> has name of csv file (in my_folder)   \n",
    "><code style=\"color:yellow\">out_prefix</code> alphanumeric descriptive prefix for all output files (e.g. a project code).  No \"/\", special symbols   \n",
    "Advanced users can igore my_folder and set directories manually"
   ]
  },
  {
   "cell_type": "code",
   "execution_count": 30,
   "metadata": {},
   "outputs": [
    {
     "name": "stderr",
     "output_type": "stream",
     "text": [
      "Working directory for output set to: /home/sagemaker-user/Projects/Training\n",
      "\n",
      "Read data into R file: data_in\n",
      "\n"
     ]
    },
    {
     "name": "stdout",
     "output_type": "stream",
     "text": [
      "'data.frame':\t28800 obs. of  10 variables:\n",
      " $ CaseID                           : int  1 1 1 1 1 1 1 1 1 1 ...\n",
      " $ Task                             : int  1 1 1 1 2 2 2 2 3 3 ...\n",
      " $ Concept                          : int  1 2 3 4 1 2 3 4 1 2 ...\n",
      " $ Att.1...Destination.             : int  2 3 4 1 6 3 6 5 2 3 ...\n",
      " $ Att.2...Cruise.Line.             : int  5 1 4 3 6 2 1 2 4 5 ...\n",
      " $ Att.3...Number.of.Days.          : int  2 1 3 5 3 2 1 4 5 3 ...\n",
      " $ Att.4...Stateroom.               : int  2 1 2 3 1 3 2 3 3 2 ...\n",
      " $ Att.5...Ship.Amenities.Age.      : int  1 1 2 2 1 2 2 1 1 2 ...\n",
      " $ Att.6...Price.per.Person.per.Day.: int  2 1 5 3 1 2 4 5 4 3 ...\n",
      " $ Response                         : int  0 1 0 0 1 0 0 0 1 0 ...\n"
     ]
    },
    {
     "name": "stderr",
     "output_type": "stream",
     "text": [
      "Compiling Stan code...\n",
      "\n",
      "DONE\n",
      "\n"
     ]
    }
   ],
   "source": [
    "################    REQUIRED ENTRIES       #####################\n",
    "my_folder <- \"Training\" # NAME OF your folder in Projects\n",
    "my_csv_file <- \"Data_Train.csv\" \n",
    "out_prefix <- \"SawComp\" # Prefix for output files (descriptive string no /)\n",
    "\n",
    "################    OPTIONAL       #####################\n",
    "my_stan_code <- \"BaseHB_wMNL.stan\" # Optional: Specify other stan model here in subfolder StanCode\n",
    "dir_work <- file.path(\"/home/sagemaker-user/Projects\", my_folder) # path for output files\n",
    "dir_data <- file.path(\"/home/sagemaker-user/Projects\", my_folder) # path for data\n",
    "dir_stan <- \"/home/sagemaker-user/SharedGit/StanCode\" # path for stan code\n",
    "\n",
    "################ LEAVE BELOW ALONE #####################\n",
    "source(file.path(rpath,\"getdata_and_stan.R\"))"
   ]
  },
  {
   "cell_type": "markdown",
   "metadata": {},
   "source": [
    "#### 2) Specify Coding "
   ]
  },
  {
   "cell_type": "code",
   "execution_count": 29,
   "metadata": {},
   "outputs": [
    {
     "name": "stderr",
     "output_type": "stream",
     "text": [
      "Chosen id, task, dep:\n",
      "\n"
     ]
    },
    {
     "name": "stdout",
     "output_type": "stream",
     "text": [
      "'data.frame':\t28800 obs. of  3 variables:\n",
      " $ CaseID  : int  1 1 1 1 1 1 1 1 1 1 ...\n",
      " $ Task    : int  1 1 1 1 2 2 2 2 3 3 ...\n",
      " $ Response: int  0 1 0 0 1 0 0 0 1 0 ...\n"
     ]
    },
    {
     "name": "stderr",
     "output_type": "stream",
     "text": [
      "Code master file has the following coded parameters:\n",
      "\n"
     ]
    },
    {
     "name": "stdout",
     "output_type": "stream",
     "text": [
      " [1] \"Att.1...Destination._1\"        \"Att.1...Destination._2\"       \n",
      " [3] \"Att.1...Destination._3\"        \"Att.1...Destination._4\"       \n",
      " [5] \"Att.1...Destination._5\"        \"Att.2...Cruise.Line._1\"       \n",
      " [7] \"Att.2...Cruise.Line._2\"        \"Att.2...Cruise.Line._3\"       \n",
      " [9] \"Att.2...Cruise.Line._4\"        \"Att.2...Cruise.Line._5\"       \n",
      "[11] \"Att.3...Number.of.Days._1\"     \"Att.3...Number.of.Days._2\"    \n",
      "[13] \"Att.3...Number.of.Days._3\"     \"Att.3...Number.of.Days._4\"    \n",
      "[15] \"Att.4...Stateroom._1\"          \"Att.4...Stateroom._2\"         \n",
      "[17] \"Att.5...Ship.Amenities.Age._1\" \"ppd_1_2\"                      \n",
      "[19] \"ppd_2_3\"                       \"ppd_3_4\"                      \n",
      "[21] \"ppd_4_5\"                      \n"
     ]
    }
   ],
   "source": [
    "idtaskdep <- data_in[,c(1,2,10)] # column numbers of id, task, dep\n",
    "\n",
    "### SPECIFY CODING BELOW FOR EACH ATTRIBUTE ####\n",
    "indcode_spec <- list()\n",
    "indcode_spec[[1]] <- catcode(data_in, 4) \n",
    "indcode_spec[[2]] <- catcode(data_in, 5) \n",
    "indcode_spec[[3]] <- catcode(data_in, 6) \n",
    "indcode_spec[[4]] <- catcode(data_in, 7) \n",
    "indcode_spec[[5]] <- catcode(data_in, 8) \n",
    "indcode_spec[[6]] <- ordcode(data_in, 9, cut_pts = c(1,2,3,4,5), varout = \"ppd\") # Ordinal Code\n",
    "#################################################\n",
    "\n",
    "### Put coding together ###\n",
    "message(\"Chosen id, task, dep:\")\n",
    "str(idtaskdep)\n",
    "indcode_list <- make_codefiles(indcode_spec)\n",
    "write.table(cbind(rownames(indcode_list$code_master), indcode_list$code_master), file = file.path(dir_work, paste0(out_prefix,\"_code_master.csv\")), sep = \",\", na = \".\", row.names = FALSE)\n"
   ]
  },
  {
   "cell_type": "markdown",
   "metadata": {},
   "source": [
    "***\n",
    "#### 3) Specify constraints"
   ]
  },
  {
   "cell_type": "code",
   "execution_count": 31,
   "metadata": {},
   "outputs": [],
   "source": [
    "### Specify constraints (sign only) ###\n",
    "con_sign <- rep(0,ncol(indcode_list$code_master))\n",
    "con_sign[18:21] <- -1 # Negative utilities for price slopes"
   ]
  },
  {
   "cell_type": "markdown",
   "metadata": {},
   "source": [
    "***  \n",
    "#### 4) Specify threads and modeling specs"
   ]
  },
  {
   "cell_type": "code",
   "execution_count": 32,
   "metadata": {},
   "outputs": [
    {
     "name": "stderr",
     "output_type": "stream",
     "text": [
      "Stan file prepared\n",
      "\n"
     ]
    },
    {
     "name": "stdout",
     "output_type": "stream",
     "text": [
      "List of 27\n",
      " $ N              : int 28800\n",
      " $ P              : int 21\n",
      " $ T              : int 7200\n",
      " $ I              : int 600\n",
      " $ dep            : Named num [1:28800] 0 1 0 0 1 0 0 0 1 0 ...\n",
      "  ..- attr(*, \"names\")= chr [1:28800] \"1\" \"1\" \"1\" \"1\" ...\n",
      " $ ind            : num [1:28800, 1:21] 0 0 0 1 -1 0 -1 0 0 0 ...\n",
      "  ..- attr(*, \"dimnames\")=List of 2\n",
      "  .. ..$ : NULL\n",
      "  .. ..$ : chr [1:21] \"Att.1...Destination._1\" \"Att.1...Destination._2\" \"Att.1...Destination._3\" \"Att.1...Destination._4\" ...\n",
      " $ idtask         :'data.frame':\t28800 obs. of  2 variables:\n",
      "  ..$ CaseID: int [1:28800] 1 1 1 1 1 1 1 1 1 1 ...\n",
      "  ..$ Task  : int [1:28800] 1 1 1 1 2 2 2 2 3 3 ...\n",
      " $ idtask_r       : int [1:28800] 1 1 1 1 2 2 2 2 3 3 ...\n",
      " $ resp_id        : int [1:600] 1 3 5 6 7 9 10 12 14 16 ...\n",
      " $ match_id       : int [1:28800] 1 1 1 1 1 1 1 1 1 1 ...\n",
      " $ task_individual: int [1:7200] 1 1 1 1 1 1 1 1 1 1 ...\n",
      " $ start          : num [1:7200] 1 5 9 13 17 21 25 29 33 37 ...\n",
      " $ end            : int [1:7200] 4 8 12 16 20 24 28 32 36 40 ...\n",
      " $ prior_cov      : num [1:21, 1:21] 0.833 -0.167 -0.167 -0.167 -0.167 ...\n",
      " $ code_master    : num [1:27, 1:21] 1 0 0 0 0 -1 0 0 0 0 ...\n",
      "  ..- attr(*, \"dimnames\")=List of 2\n",
      "  .. ..$ : chr [1:27] \"Att.1...Destination._1\" \"Att.1...Destination._2\" \"Att.1...Destination._3\" \"Att.1...Destination._4\" ...\n",
      "  .. ..$ : chr [1:21] \"Att.1...Destination._1\" \"Att.1...Destination._2\" \"Att.1...Destination._3\" \"Att.1...Destination._4\" ...\n",
      " $ df             : num 2\n",
      " $ prior_alpha    : num [1:21] 0 0 0 0 0 0 0 0 0 0 ...\n",
      " $ a_sig          : num 10\n",
      " $ cov_block      : num [1:21, 1:21] 1 1 1 1 1 1 1 1 1 1 ...\n",
      " $ adapt_delta    : num 0.8\n",
      " $ wts            : num [1:28800] 1 1 1 1 1 1 1 1 1 1 ...\n",
      " $ splitsize      : num 1800\n",
      " $ iter_warmup    : num 200\n",
      " $ iter_sampling  : num 400\n",
      " $ prior_cov_scale: num 1\n",
      " $ con_sign       : num [1:21] 0 0 0 0 0 0 0 0 0 0 ...\n",
      " $ refresh        : num 50\n"
     ]
    }
   ],
   "source": [
    "# Specify threads\n",
    "threads <- list(tot_chains = 2, # Typically 2\n",
    "                parallel_chains = 2, # Typically 2\n",
    "                threads_per_chain = 1) # Depends on Cores, 8 to 16 is desirable\n",
    "\n",
    "# Modeling parameters. Defaults are usually fine\n",
    "data_model <- list(\n",
    "  iter_warmup = 200, # warmup of 400 is plenty\n",
    "  iter_sampling = 400, # sampling of 400 is plenty\n",
    "  df = 2,\n",
    "  prior_cov_scale = 1,\n",
    "  con_sign = con_sign,\n",
    "  # Stan specific below (no changes needed)\n",
    "  refresh = 50,\n",
    "  agg_model = NULL,\n",
    "  tag = NULL\n",
    ")\n",
    "\n",
    "### Prepare data for Stan (Optional changes) ####\n",
    "data_stan <- prep_file_stan(idtaskdep, indcode_list)\n",
    "data_stan$ splitsize <- round(.5 + data_stan$T/(4 * threads[[3]])) # For multi-treading 1 is Stan automatic\n",
    "message(\"Stan file prepared\")\n",
    "str(modifyList(data_stan, data_model))"
   ]
  },
  {
   "cell_type": "markdown",
   "metadata": {},
   "source": [
    "***\n",
    "#### Last cell below can just be run  \n",
    "**-- Estimate Model, Save Results and Evaluate Convergence --**\n"
   ]
  },
  {
   "cell_type": "code",
   "execution_count": null,
   "metadata": {},
   "outputs": [],
   "source": [
    "source(file.path(rpath, \"estimate_stan.R\"))\n",
    "source(file.path(rpath, \"checkconverge_and_export.R\"))\n"
   ]
  }
 ],
 "metadata": {
  "instance_type": "ml.t3.medium",
  "kernelspec": {
   "display_name": "r (cmdstanr) (r-cmdstanr/1)",
   "language": "python",
   "name": "ir__SAGEMAKER_INTERNAL__arn:aws:sagemaker:us-east-2:565186342976:image-version/r-cmdstanr/1"
  },
  "language_info": {
   "codemirror_mode": "r",
   "file_extension": ".r",
   "mimetype": "text/x-r-source",
   "name": "R",
   "pygments_lexer": "r",
   "version": "4.1.1"
  }
 },
 "nbformat": 4,
 "nbformat_minor": 4
}
