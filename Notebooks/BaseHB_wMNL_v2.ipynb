{
 "cells": [
  {
   "cell_type": "markdown",
   "metadata": {},
   "source": [
    "***\n",
    "#### Just Run to set up libraries and verify Stan exists"
   ]
  },
  {
   "cell_type": "code",
   "execution_count": null,
   "metadata": {},
   "outputs": [],
   "source": [
    "#install.packages(\"cmdstanr\", repos = c(\"https://mc-stan.org/r-packages/\", getOption(\"repos\")))\n",
    "library(cmdstanr)\n",
    "library(posterior)\n",
    "set_cmdstan_path('/opt/conda/bin/cmdstan')\n",
    "cmdstan_version()\n",
    "source(\"/home/sagemaker-user/SharedTemplates/RCode/EstimationEcosystems.R\") # Source helper functions"
   ]
  },
  {
   "cell_type": "markdown",
   "metadata": {},
   "source": [
    "***\n",
    "####  1) Create subfolder in Projects directory and import rds data file there \n",
    "Then specify in first three lines:  \n",
    "><code style=\"color:yellow\">my_folder</code> is name of folder you created under Projects   \n",
    "><code style=\"color:yellow\">my_csv_file</code> has name of csv file (in my_folder)   \n",
    "><code style=\"color:yellow\">out_prefix</code> alphanumeric descriptive prefix for all output files (e.g. a project code).  No \"/\", special symbols   \n",
    "Advanced users can igore my_folder and set directories manually"
   ]
  },
  {
   "cell_type": "code",
   "execution_count": null,
   "metadata": {},
   "outputs": [],
   "source": [
    "################    REQUIRED ENTRIES       #####################\n",
    "my_folder <- \"NewProject\" # NAME OF your folder in Projects\n",
    "my_csv_file <- \"Data_Train.csv\" \n",
    "out_prefix <- \"my_tag\" # Prefix for output files (descriptive string no /)\n",
    "\n",
    "################    OPTIONAL       #####################\n",
    "dir_work <- file.path(\"/home/sagemaker-user/Projects\", my_folder) # path for output files\n",
    "dir_data <- file.path(\"/home/sagemaker-user/Projects\", my_folder) # path for data\n",
    "dir_stan <- \"/home/sagemaker-user/SharedTemplates/StanCode\" # path for stan code\n",
    "my_stan_code <- \"BaseHB_wMNL.stan\" # Optional: Specify other stan model here in subfolder StanCode\n",
    "\n",
    "################ LEAVE BELOW ALONE #####################\n",
    "message(\"Working directory for output set to: \", dir_work)\n",
    "if (!file.exists(file.path(dir_data, my_csv_file))){\n",
    "  message(paste0(\"Cannot find your data file: \", my_csv_file))    \n",
    "} else {\n",
    "  data_in <- read.csv(file.path(dir_data, my_csv_file), as.is=TRUE)\n",
    "  message(\"Read data into R file data_in\")\n",
    "  str(data_in)\n",
    "}\n",
    "if (!file.exists(file.path(dir_stan, my_stan_code))){\n",
    "  message(paste0(\"Cannot find Stan Code in: \", dir_stan))    \n",
    "} else {\n",
    "  cat(\"Compiling Stan code...\")\n",
    "  HB_model <- cmdstan_model(file.path(dir_stan,my_stan_code), quiet = TRUE, cpp_options = list(stan_threads = TRUE))\n",
    "  cat(\"DONE\")\n",
    "}"
   ]
  },
  {
   "cell_type": "markdown",
   "metadata": {},
   "source": [
    "#### 2) Specify Coding "
   ]
  },
  {
   "cell_type": "code",
   "execution_count": null,
   "metadata": {},
   "outputs": [],
   "source": [
    "idtaskdep <- data_in[,c(1,2,10)] # column numbers of id, task, dep\n",
    "\n",
    "### SPECIFY CODING BELOW FOR EACH ATTRIBUTE ####\n",
    "indcode_spec <- list()\n",
    "indcode_spec[[1]] <- catcode(data_in, 4) \n",
    "indcode_spec[[2]] <- catcode(data_in, 5) \n",
    "indcode_spec[[3]] <- catcode(data_in, 6) \n",
    "indcode_spec[[4]] <- catcode(data_in, 7) \n",
    "indcode_spec[[5]] <- catcode(data_in, 8) \n",
    "indcode_spec[[6]] <- ordcode(data_in, 9, cut_pts = c(1,2,3,4,5), varout = \"ppd\") # Ordinal Code\n",
    "#################################################\n",
    "\n",
    "### Put coding together ###\n",
    "message(\"Chosen id, task, dep:\")\n",
    "indcode_list <- make_codefiles(indcode_spec)\n",
    "write.table(cbind(rownames(indcode_list$code_master), indcode_list$code_master), file = file.path(dir_work, paste0(out_prefix,\"_code_master.csv\")), sep = \",\", na = \".\", row.names = FALSE)\n",
    "str(idtaskdep)\n",
    "message(\"Code master file has the following coded parameters:\")\n",
    "print(colnames(indcode_list$code_master))"
   ]
  },
  {
   "cell_type": "markdown",
   "metadata": {},
   "source": [
    "***\n",
    "#### 3) Specify constraints"
   ]
  },
  {
   "cell_type": "code",
   "execution_count": null,
   "metadata": {},
   "outputs": [],
   "source": [
    "### Specify constraints (sign only) ###\n",
    "con_sign <- rep(0,ncol(indcode_list$code_master))\n",
    "con_sign[18:21] <- -1 # Negative utilities for price slopes"
   ]
  },
  {
   "cell_type": "code",
   "execution_count": null,
   "metadata": {},
   "outputs": [],
   "source": [
    "### Prepare data for Stan (Optional changes) ####\n",
    "data_stan <- prep_file(idtaskdep, indcode_list)\n",
    "data_stan$tag <- out_prefix \n",
    "data_stan$con_sign <- con_sign\n",
    "data_stan$prior_cov <- data_stan$prior_cov * 1 # Prior covariance change\n",
    "data_stan$df <- 2 # Degrees of freedom\n",
    "data_stan$prior_alpha = rep(0, data_stan$P)\n",
    "data_stan$a_sig = 10\n",
    "data_stan$cov_block = matrix(1, data_stan$P, data_stan$P)\n",
    "message(\"Stan file prepared\")\n",
    "str(data_stan)"
   ]
  },
  {
   "cell_type": "markdown",
   "metadata": {},
   "source": [
    "***  \n",
    "#### 4) Specify threads and modeling specs"
   ]
  },
  {
   "cell_type": "code",
   "execution_count": null,
   "metadata": {},
   "outputs": [],
   "source": [
    "# Specify threads\n",
    "threads <- list(tot_chains = 2, # Typically 2\n",
    "                parallel_chains = 2, # Typically 2\n",
    "                threads_per_chain = 2) # Depends on Cores, 8 to 16 is desirable\n",
    "\n",
    "# Modeling parameters. Defaults are usually fine\n",
    "data_model <- list(\n",
    "  iter_warmup = 300, # warmup of 400 is plenty\n",
    "  iter_sampling = 300, # sampling of 400 is plenty \n",
    "  splitsize = round(.5 + data_stan$T/(4 * threads[[3]])), # For multi-treading 1 is Stan automatic\n",
    "  agg_model = NULL,\n",
    "  tag = NULL\n",
    ")\n",
    "message(\"All Prep is Done\")"
   ]
  },
  {
   "cell_type": "markdown",
   "metadata": {},
   "source": [
    "***\n",
    "#### Last cell below can just be run  \n",
    "**-- Estimate Model, Save Results and Evaluate Convergence --**\n"
   ]
  },
  {
   "cell_type": "code",
   "execution_count": null,
   "metadata": {},
   "outputs": [],
   "source": [
    "outname <- paste0(out_prefix, \"_StanOut_\", \n",
    "                  format(Sys.time(), '%Y%m%d-%H%M%S')) # edit as desired\n",
    "message(\"ESTIMATING...\")\n",
    "cat(\"Optional lines to run in terminal to check progress:\\n\")\n",
    "cat(paste0(\n",
    "    \"cd \", dir_work, \"   # Change to your working directory and then:\\n\",\n",
    "    \"  awk 'END { print NR - 45 } ' '\",outname,\"-1.csv'\", \"                # Count lines in output\\n\",\n",
    "    \"  tail -n +45 '\",outname,\"-1.csv'  | cut -d, -f 1-300 > temp.csv\", \"  # Create temp.csv with first 300 columns\\n\"))\n",
    "\n",
    "#####  Run Stan Model ###############\n",
    "HB_model$sample(modifyList(data_stan, data_model),\n",
    "                iter_warmup = data_model$iter_warmup,\n",
    "                iter_sampling = data_model$iter_sampling,\n",
    "                output_dir = dir_work,\n",
    "                output_basename = outname,\n",
    "                chains = threads[[1]],\n",
    "                parallel_chains = threads[[2]],\n",
    "                threads_per_chain = threads[[3]],\n",
    "                save_warmup = TRUE,\n",
    "                refresh = 50,\n",
    "                seed = 271,\n",
    "                init = .1,\n",
    "                adapt_delta = .8,\n",
    "                show_messages = FALSE,\n",
    "                validate_csv = FALSE\n",
    ")\n",
    "cat(\"### ESTIMATION DONE ###\\n\")\n",
    "\n",
    "### Read results from csv into R ###\n",
    "cat(\"Reading draws from Stan csv output into R (large files take time)...\")\n",
    "nchains <- threads[[1]]\n",
    "csv_name <- do.call(c, lapply(1:nchains, function(i) paste0(outname,\"-\",i,\".csv\")))\n",
    "draws_beta <- read_cmdstan_csv(file.path(dir_work, csv_name), variables = \"beta_ind\", format = \"draws_list\", sampler_diagnostics = \"accept_stat__\")\n",
    "cat(\"DONE\")\n",
    "                              \n",
    "### Save output files and check convergence ###\n",
    "draws_name <- paste0(out_prefix,\"_draws_beta.rds\")\n",
    "util_name <- paste0(out_prefix,\"_utilities_r.csv\")\n",
    "pdf_name <- paste0(out_prefix,\"_trace_plots.pdf\")\n",
    "fit_name <-  paste0(out_prefix,\"_fit_stats.csv\")\n",
    "message(paste0(\n",
    "  \"Saving post warm-up files for:\\n\",\n",
    "  \" respondent point estimates:    \", util_name,\"\\n\",  \n",
    "  \" draws of utilities as R list:  \", draws_name,\"\\n\",\n",
    "  \" convergence stats of mean:     \", fit_name, \"\\n\",\n",
    "  \" PDF of detailed traceplots:    \", pdf_name,\"\\n\",\n",
    "  \"\\nShowing post warm-up:\\n\",\n",
    "    \" Acceptance rate across iterations (histogram)\\n\",\n",
    "    \" Traceplots of all mean utilities together (Sawtooth chart)\"\n",
    "))\n",
    "\n",
    "hist(do.call(rbind,draws_beta$post_warmup_sampler_diagnostics)$accept_stat__, breaks = 30, main = \"Acceptance Rate - Sampling\", xlab = \"\", xlim = c(0,1))\n",
    "saveRDS(modifyList(draws_beta,list(warmup_draws = NULL)), file.path(dir_work, draws_name)) # drop warmup\n",
    "utilities <- matrix(\n",
    "            Reduce(\"+\",lapply(draws_beta$post_warmup_draws, colMeans))/nchains,\n",
    "            data_stan$I, data_stan$P,\n",
    "            byrow = TRUE) # First P entries are respondent 1, next P are resp 2\n",
    "utilities_r <- utilities %*% t(data_stan$code_master)\n",
    "write.table(cbind(id = data_stan$resp_id, utilities_r), file = file.path(dir_work, util_name), sep = \",\", na = \".\", row.names = FALSE)\n",
    "                              \n",
    "# Convergence charts saved as pdf and in fit_stats\n",
    "fit_stats <- data.frame(\n",
    "  variable = colnames(data_stan$ind),\n",
    "  mean = NA,\n",
    "  rhat = NA,\n",
    "  ESS = NA\n",
    ")\n",
    "ndraws <- nrow(draws_beta$post_warmup_draws[[1]])\n",
    "draws_beta_mu <- list() # Creates the mean of respondent utilities for each iteration, like alpha\n",
    "for (chain_i in (1:nchains)){\n",
    "  draws_beta_list <- as.matrix(draws_beta$post_warmup_draws[[chain_i]])\n",
    "  draws_beta_mu[[chain_i]] <- t(sapply(1:ndraws, function(draw){\n",
    "    beta_mu <- colMeans(matrix(draws_beta_list[draw,],\n",
    "                               data_stan$I,data_stan$P, byrow = TRUE))\n",
    "  }))\n",
    "  matplot(1:nrow(draws_beta_mu[[chain_i]]), draws_beta_mu[[chain_i]],\n",
    "          type = \"l\" , lty = 1, lwd = 1, main = paste0(\"Chain \", chain_i), xlab = \"Iteration\", ylab = \"Mean Beta\")   \n",
    "} \n",
    "chain_cols <- c(\"red\",\"blue\",\"green\",\"black\")\n",
    "pdf(file = file.path(dir_work, pdf_name),   # The directory you want to save the file in\n",
    "    width = 7, # The width of the plot in inches\n",
    "    height = 5) # The height of the plot in inches\n",
    "for (i in 1:ncol(draws_beta_mu[[1]])){\n",
    "  x <- sapply(1:length(draws_beta_mu), function(chain){\n",
    "    draws_beta_mu[[chain]][,i]     \n",
    "  }) # x is set of column i across draws_beta_mu\n",
    "  fit_stats$mean[i] <- round(mean(x), 2)\n",
    "  fit_stats$rhat[i] <- round(rhat(x),2)\n",
    "  fit_stats$ESS[i] <- round(ess_basic(x),1)\n",
    "  plot(x[,1], type = \"l\", col = chain_cols[1], ylim = c(min(x), max(x)),\n",
    "                          xlab = \"Sample Iteration\", ylab = \"Mean Beta\",\n",
    "                          main = paste(colnames(data_stan$ind)[i],\n",
    "                                                    \"| rhat = \", round(rhat(x),2),\n",
    "                                                    \"| ESS = \", round(ess_basic(x),1)\n",
    "  ))\n",
    "  for (chain in 2:nchains){\n",
    "    lines(x[,2], type = \"l\", col = chain_cols[chain])\n",
    "  }\n",
    "}\n",
    "dev.off()\n",
    "write.table(fit_stats, file = file.path(dir_work, paste0(out_prefix,\"_fit_stats.csv\")), sep = \",\", na = \".\", row.names = FALSE)"
   ]
  },
  {
   "cell_type": "code",
   "execution_count": null,
   "metadata": {},
   "outputs": [],
   "source": []
  }
 ],
 "metadata": {
  "instance_type": "ml.t3.xlarge",
  "kernelspec": {
   "display_name": "r (cmdstanr) (r-cmdstanr/1)",
   "language": "python",
   "name": "ir__SAGEMAKER_INTERNAL__arn:aws:sagemaker:us-east-2:565186342976:image-version/r-cmdstanr/1"
  },
  "language_info": {
   "codemirror_mode": "r",
   "file_extension": ".r",
   "mimetype": "text/x-r-source",
   "name": "R",
   "pygments_lexer": "r",
   "version": "4.1.1"
  }
 },
 "nbformat": 4,
 "nbformat_minor": 4
}
